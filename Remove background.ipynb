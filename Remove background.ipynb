{
 "cells": [
  {
   "cell_type": "markdown",
   "id": "d634943b",
   "metadata": {},
   "source": [
    "# Remove Image Background"
   ]
  },
  {
   "cell_type": "code",
   "execution_count": 1,
   "id": "3ea4c534",
   "metadata": {},
   "outputs": [
    {
     "name": "stderr",
     "output_type": "stream",
     "text": [
      "C:\\Users\\pc\\anaconda3\\Lib\\site-packages\\paramiko\\transport.py:219: CryptographyDeprecationWarning: Blowfish has been deprecated\n",
      "  \"class\": algorithms.Blowfish,\n"
     ]
    }
   ],
   "source": [
    "from rembg import remove\n",
    "from PIL import Image\n",
    "import rembg\n",
    "\n",
    "# Load the input image\n",
    "img = Image.open(\"D:\\\\Rana Nafees Here@\\\\Rana Nafees Files\\\\New folder\\\\Pnguin_Image.webp\")\n",
    "\n",
    "# Remove the background\n",
    "with rembg.remove(img) as output_image:\n",
    "    output_image.save(\"Img1.png\")\n",
    "\n",
    "# Close the input image\n",
    "img.close()\n"
   ]
  },
  {
   "cell_type": "code",
   "execution_count": 2,
   "id": "589a0a1f",
   "metadata": {},
   "outputs": [],
   "source": [
    "output_image.show()"
   ]
  },
  {
   "cell_type": "code",
   "execution_count": null,
   "id": "ff302473",
   "metadata": {},
   "outputs": [],
   "source": []
  }
 ],
 "metadata": {
  "kernelspec": {
   "display_name": "Python 3 (ipykernel)",
   "language": "python",
   "name": "python3"
  },
  "language_info": {
   "codemirror_mode": {
    "name": "ipython",
    "version": 3
   },
   "file_extension": ".py",
   "mimetype": "text/x-python",
   "name": "python",
   "nbconvert_exporter": "python",
   "pygments_lexer": "ipython3",
   "version": "3.11.3"
  }
 },
 "nbformat": 4,
 "nbformat_minor": 5
}
